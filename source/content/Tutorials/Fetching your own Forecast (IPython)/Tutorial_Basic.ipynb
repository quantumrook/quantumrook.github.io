{
 "cells": [
  {
   "cell_type": "code",
   "execution_count": 1,
   "metadata": {},
   "outputs": [],
   "source": [
    "from datetime import datetime\n",
    "import time\n",
    "\n",
    "import requests\n",
    "\n",
    "#Optional:\n",
    "# import matplotlib.pyplot as plt\n",
    "# import numpy as np"
   ]
  },
  {
   "cell_type": "code",
   "execution_count": 2,
   "metadata": {},
   "outputs": [
    {
     "name": "stdout",
     "output_type": "stream",
     "text": [
      "200\n"
     ]
    }
   ],
   "source": [
    "latitude = 45.5958\n",
    "longitude = -122.6092\n",
    " \n",
    "points_url = f\"https://api.weather.gov/points/{latitude},{longitude}\"\n",
    " \n",
    "response = requests.get(url=points_url)\n",
    " \n",
    "print(response.status_code) #200 means everything worked\n",
    " \n",
    "if response.status_code == 404:\n",
    "    print(\"Something went wrong with requesting data. Please verify the latitude and longitude are correct before retrying.\")\n",
    "    print(f'\\tService Error Message:\\n\\t\\t{response.json()[\"detail\"]}')\n",
    " \n",
    "if response.status_code == 200:\n",
    "\tpoints_data = response.json()"
   ]
  },
  {
   "cell_type": "code",
   "execution_count": 3,
   "metadata": {},
   "outputs": [
    {
     "name": "stdout",
     "output_type": "stream",
     "text": [
      "\tWaiting 2 seconds before sending request to avoid exceeding the request limit.\n",
      "\tRequest successful.\n",
      "\tWaiting 2 seconds before sending request to avoid exceeding the request limit.\n",
      "\tRequest successful.\n"
     ]
    }
   ],
   "source": [
    "forecast_urls = [\n",
    "\tpoints_data[\"properties\"][\"forecast\"],\n",
    "\tpoints_data[\"properties\"][\"forecastHourly\"]\n",
    "]\n",
    "forecast_response = [ ]\n",
    "\n",
    "for request_url in forecast_urls:\n",
    "\t#Add delay to prevent requesting too quickly, otherwise Weather.gov will return invalid responses\n",
    "\tprint(f'\\tWaiting 2 seconds before sending request to avoid exceeding the request limit.')\n",
    "\ttime.sleep(2)\n",
    "\n",
    "\tresponse = requests.get(url=request_url)\n",
    "\tif response.status_code == 200:\n",
    "\t\tprint(\"\\tRequest successful.\")\n",
    "\t\tforecast_response.append(response.json())\n",
    "\telse:\n",
    "\t\tprint(\"\\tRequest failed.\")\n",
    "\t\tprint(f\"Status code: {response.status_code}\")\n",
    "\t\tbreak"
   ]
  },
  {
   "cell_type": "code",
   "execution_count": 5,
   "metadata": {},
   "outputs": [
    {
     "name": "stdout",
     "output_type": "stream",
     "text": [
      "### Today's Hourly Forecast\n",
      "| Time | Temperature (°F) | Chance of Rain (%)|\n",
      "| :--: | :---------: | :------------: |\n",
      "| 11:00 | 47 | 62 |\n",
      "| 12:00 | 48 | 82 |\n",
      "| 13:00 | 48 | 89 |\n",
      "| 14:00 | 49 | 93 |\n",
      "| 15:00 | 50 | 97 |\n",
      "| 16:00 | 49 | 99 |\n",
      "| 17:00 | 49 | 94 |\n",
      "| 18:00 | 49 | 80 |\n",
      "| 19:00 | 49 | 69 |\n",
      "| 20:00 | 49 | 61 |\n",
      "| 21:00 | 49 | 56 |\n",
      "| 22:00 | 49 | 56 |\n",
      "| 23:00 | 49 | 51 |\n"
     ]
    }
   ],
   "source": [
    "hourly_data = forecast_response[1]\n",
    "today = datetime.strftime(datetime.today(), \"%Y-%m-%d\")\n",
    "\n",
    "print(\"### Today's Hourly Forecast\")\n",
    "print(\"| Time | Temperature (\\N{DEGREE SIGN}F) | Chance of Rain (%)|\")\n",
    "print(\"| :--: | :---------: | :------------: |\")\n",
    "for period in hourly_data[\"properties\"][\"periods\"]:\n",
    "    period_date, period_time = period[\"startTime\"].split(\"T\")\n",
    "    \n",
    "    if period_date != today:\n",
    "        break\n",
    "    hour, minute, *extra = period_time.split(\":\")\n",
    "    print(f\"| {hour}:{minute} | {period[\"temperature\"]} | {period[\"probabilityOfPrecipitation\"][\"value\"]} |\")"
   ]
  }
 ],
 "metadata": {
  "kernelspec": {
   "display_name": "Python 3",
   "language": "python",
   "name": "python3"
  },
  "language_info": {
   "codemirror_mode": {
    "name": "ipython",
    "version": 3
   },
   "file_extension": ".py",
   "mimetype": "text/x-python",
   "name": "python",
   "nbconvert_exporter": "python",
   "pygments_lexer": "ipython3",
   "version": "3.12.8"
  }
 },
 "nbformat": 4,
 "nbformat_minor": 2
}
