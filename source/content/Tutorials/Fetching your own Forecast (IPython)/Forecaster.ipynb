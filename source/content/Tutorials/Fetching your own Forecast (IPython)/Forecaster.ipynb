{
 "cells": [
  {
   "cell_type": "markdown",
   "metadata": {},
   "source": [
    "# Initializers\n",
    "\n",
    "These cells should be run before attempting to request any data from [weather.gov](http://weather.gov/), as they provide necessary functions and variables for the requesting and formatting code."
   ]
  },
  {
   "cell_type": "markdown",
   "metadata": {},
   "source": [
    "### Note:\n",
    "\n",
    "If you migrate the python code from this notebook to a regular python file (`.py`), replace all occurences of `StopExecution(..)` calls with `quit()` to get the expected behaviour."
   ]
  },
  {
   "cell_type": "code",
   "execution_count": 1,
   "metadata": {},
   "outputs": [],
   "source": [
    "class StopExecution(Exception):\n",
    "    def _render_traceback_(self):\n",
    "        return []"
   ]
  },
  {
   "cell_type": "markdown",
   "metadata": {},
   "source": [
    "### Libraries"
   ]
  },
  {
   "cell_type": "code",
   "execution_count": 2,
   "metadata": {},
   "outputs": [],
   "source": [
    "from dataclasses            import dataclass\n",
    "from datetime               import datetime\n",
    "\n",
    "import math\n",
    "import pytz\n",
    "import requests\n",
    "import time\n",
    "\n",
    "import matplotlib.pyplot    as plt\n",
    "import numpy                as np\n",
    "\n",
    "import private              as private_constants"
   ]
  },
  {
   "cell_type": "markdown",
   "metadata": {},
   "source": [
    "### Constants"
   ]
  },
  {
   "cell_type": "markdown",
   "metadata": {},
   "source": [
    "If you're not me, you won't have a python file called \"private.py\" in the same folder. To make this work, replace the values of `private_constants.lattitude` and `private_constants.longitude` with **your** lattitude and longitude. To obtain this information, just go to [weather.gov](http://weather.gov) and get the forecast for your area by providing your zip code. On the forecast page, it'll list your location's lattitude and longitude. Also: comment out the line in the section above (should be **line 12**, or the last line in the cell) that says `import private as private_constants`. Alternatively, you can add a file named `private.py` that contains just two entries, `lattitude` and `longitude` with the values.\n",
    "\n",
    "The API only supports up to $4$ decimals of precision, so round to the nearest digit. For example:\n",
    "\n",
    "$$123.456789\\quad\\rightarrow\\quad 123.4568$$\n",
    "\n",
    "**If you do not respect the API, it will return an invalid response.**"
   ]
  },
  {
   "cell_type": "code",
   "execution_count": 3,
   "metadata": {},
   "outputs": [],
   "source": [
    "HTML_OK_CODE            = 200\n",
    "HTML_ERROR_CODE         = 404\n",
    "\n",
    "LATTITUDE               = private_constants.lattitude\n",
    "LONGITUDE               = private_constants.longitude\n",
    "\n",
    "DATETIME_FORMAT         = \"%Y-%m-%d %H:%M\"\n",
    "LOCAL_TIME_ZONE         = pytz.timezone(private_constants.timezone)\n",
    "\n",
    "LAST_TIME_QUERIED       = None #TODO:: Replace with checks for data file to alleviate the dependence on the notebook's memory\n",
    "FORECAST_VALID_UNTIL    = None\n",
    "\n",
    "DEGREE_SIGN             = u'\\N{DEGREE SIGN}'"
   ]
  },
  {
   "cell_type": "markdown",
   "metadata": {},
   "source": [
    "### DateTime"
   ]
  },
  {
   "cell_type": "code",
   "execution_count": 4,
   "metadata": {},
   "outputs": [],
   "source": [
    "def convert_API_dates_to_datetime(startDate: str):\n",
    "    startDate, _, junk = startDate.partition(\"+\")\n",
    "    date, time = startDate.split(sep=\"T\")\n",
    "    hour, minute, *more_junk = time.split(sep=\":\")\n",
    "\n",
    "    # Uncomment to see how something like \"2024-12-16T18:00:00-08:00\" is parsed\n",
    "    # print(date)\n",
    "    # print(time)\n",
    "    # print(time.split(sep=\":\"))\n",
    "\n",
    "    #Create the datetime object to handle timezone changing and formatting for us\n",
    "    dt = datetime.strptime(f'{date} {hour}:{minute}', DATETIME_FORMAT)\n",
    "\n",
    "    dt = LOCAL_TIME_ZONE.localize(dt)\n",
    "    #dt = dt.astimezone(LOCAL_TIME_ZONE)\n",
    "    \n",
    "    return dt.strftime(DATETIME_FORMAT)"
   ]
  },
  {
   "cell_type": "markdown",
   "metadata": {},
   "source": [
    "### Wind Chill"
   ]
  },
  {
   "cell_type": "code",
   "execution_count": 7,
   "metadata": {},
   "outputs": [],
   "source": [
    "def calculate_wind_chill(temperature, wind_speed):\n",
    "    #Source: https://www.weather.gov/epz/wxcalc_windchill\n",
    "    if temperature <= 50:\n",
    "        return round(35.74 + (0.6125 * temperature) - (35.75 * pow(wind_speed, 0.16))+ (0.4275 * temperature * pow(wind_speed, 0.16)))\n",
    "    else:\n",
    "        return 0"
   ]
  },
  {
   "cell_type": "markdown",
   "metadata": {},
   "source": [
    "### JSON Parsing"
   ]
  },
  {
   "cell_type": "code",
   "execution_count": 5,
   "metadata": {},
   "outputs": [],
   "source": [
    "@dataclass\n",
    "class ForecastData:\n",
    "    name: str\n",
    "    time: datetime\n",
    "\n",
    "    temperature: int\n",
    "    temperature_unit: str\n",
    "    wind_chill: int\n",
    "\n",
    "    wind_speed: int\n",
    "    wind_unit: str\n",
    "    wind_direction: str\n",
    "\n",
    "    #dew_point: float\n",
    "    percent_precipitation: int\n",
    "\n",
    "    forecast_short: str\n",
    "    forecast_detail: str"
   ]
  },
  {
   "cell_type": "code",
   "execution_count": 6,
   "metadata": {},
   "outputs": [],
   "source": [
    "def parse_raw_json_to_dataclass(raw_data):\n",
    "    list_of_forecast_data = { }\n",
    "\n",
    "    for data in raw_data:\n",
    "        converted_time = convert_API_dates_to_datetime(data[\"startTime\"])\n",
    "        #print(data[\"windSpeed\"].split(sep=\" \"))\n",
    "        \n",
    "        wind_data = data[\"windSpeed\"].split(sep=\" \")\n",
    "\n",
    "        wind_speed = int(wind_data[0])\n",
    "        wind_unit = wind_data[1]\n",
    "\n",
    "        if len(wind_data) > 2:\n",
    "            wind_speed = round((int(wind_data[0]) + int(wind_data[2]))/2)\n",
    "            wind_unit = wind_data[3]\n",
    "            #print(f'{wind_speed}, {wind_unit}')\n",
    "\n",
    "        list_of_forecast_data[converted_time] = ForecastData(\n",
    "            name                    = data[\"name\"],\n",
    "            time                    = converted_time,\n",
    "\n",
    "            temperature             = data[\"temperature\"],\n",
    "            temperature_unit        = data[\"temperatureUnit\"],\n",
    "            wind_chill              = calculate_wind_chill(temperature=data[\"temperature\"], wind_speed=wind_speed),\n",
    "\n",
    "            wind_speed              = wind_speed,\n",
    "            wind_unit               = wind_unit,\n",
    "            wind_direction          = data[\"windDirection\"],\n",
    "            \n",
    "            #dew_point               = data[\"dewpoint\"][\"value\"],\n",
    "            percent_precipitation   = data[\"probabilityOfPrecipitation\"][\"value\"],\n",
    "\n",
    "            forecast_short          = data[\"shortForecast\"],\n",
    "            forecast_detail         = data[\"detailedForecast\"]\n",
    "        )\n",
    "\n",
    "    return list_of_forecast_data"
   ]
  },
  {
   "cell_type": "markdown",
   "metadata": {},
   "source": [
    "### Data Request Helpers"
   ]
  },
  {
   "cell_type": "code",
   "execution_count": 8,
   "metadata": {},
   "outputs": [],
   "source": [
    "def is_good_response(response, error_message):\n",
    "    if response.status_code == HTML_ERROR_CODE:\n",
    "        print(f'{error_message}')\n",
    "        print(f'\\nError message: \\n  {response.json()[\"detail\"]}')\n",
    "        return False\n",
    "    else:\n",
    "        print(f'\\t\\tData recieved.')\n",
    "        return True\n",
    "\n",
    "def is_reasonable_to_request_new_forecast():\n",
    "    global LAST_TIME_QUERIED, FORECAST_VALID_UNTIL\n",
    "    \n",
    "    if LAST_TIME_QUERIED is None:\n",
    "        LAST_TIME_QUERIED = datetime.now()\n",
    "\n",
    "    print(f'Last time queried:            {datetime.strftime(LAST_TIME_QUERIED, DATETIME_FORMAT)}')\n",
    "    \n",
    "    if (FORECAST_VALID_UNTIL is None) == True:\n",
    "        print(f'No current forecast data, request is reasonable.')\n",
    "        return True\n",
    "\n",
    "    print(f'Forecast Data is valid until: {datetime.strftime(FORECAST_VALID_UNTIL, DATETIME_FORMAT)}\\n')\n",
    "\n",
    "    time_difference = FORECAST_VALID_UNTIL - LAST_TIME_QUERIED\n",
    "\n",
    "    if (time_difference.total_seconds() <= 0) == True:\n",
    "        return True\n",
    "    else:\n",
    "        print(f'Please wait until {FORECAST_VALID_UNTIL.strftime(DATETIME_FORMAT)} before trying to get new forecast data.')\n",
    "        return False"
   ]
  },
  {
   "cell_type": "markdown",
   "metadata": {},
   "source": [
    "# Data Request"
   ]
  },
  {
   "cell_type": "markdown",
   "metadata": {},
   "source": [
    "**Note:** Be very careful about running this cell often. It should have built in functionality to prevent too many requests to the API, but if you wipe the notebook's memory, you'll be overriding the protection measures. Try to re-run as infrequently as possible."
   ]
  },
  {
   "cell_type": "code",
   "execution_count": null,
   "metadata": {},
   "outputs": [],
   "source": [
    "response = None\n",
    "\n",
    "if is_reasonable_to_request_new_forecast() == True:\n",
    "    points_url = f'https://api.weather.gov/points/{LATTITUDE},{LONGITUDE}'\n",
    "    print(f'Getting data for {LATTITUDE,LONGITUDE}...\\n')\n",
    "\n",
    "    response = requests.get(url=points_url)\n",
    "\n",
    "if response is None:\n",
    "    #You're most likely attempting to retrieve forecast data while the currently loaded data set is still valid\n",
    "    raise StopExecution\n",
    "\n",
    "LAST_TIME_QUERIED = datetime.now()\n",
    "\n",
    "if (response.status_code == HTML_ERROR_CODE) == True:\n",
    "    print(\"Something went wrong with requesting data. Please verify the lattitude and longitude are correct before retrying.\")\n",
    "    print(f'\\tService Error Message:\\n\\t\\t{response.json()[\"detail\"]}')\n",
    "    raise StopExecution\n",
    "    \n",
    "if (response.status_code == HTML_OK_CODE) == True:\n",
    "    points_data = response.json()\n",
    "\n",
    "    forecast_urls = {\n",
    "        \"extended\" : points_data[\"properties\"][\"forecast\"],\n",
    "        \"hourly\" : points_data[\"properties\"][\"forecastHourly\"]\n",
    "    }\n",
    "\n",
    "    raw_forecast_data = {\n",
    "        \"extended\" : { },\n",
    "        \"hourly\" : { }\n",
    "    }\n",
    "\n",
    "    for forecast_type, forecast_url in forecast_urls.items():\n",
    "        #Add delay to prevent requesting too quickly, otherwise Weather.gov will return invalid responses\n",
    "        time_delay = 5\n",
    "        print(f'\\tWaiting {time_delay} seconds before sending request to avoid exceeding the request limit.')\n",
    "        time.sleep(time_delay)\n",
    "\n",
    "        #Request the forecast\n",
    "        print(f'\\t\\tRequesting the {forecast_type} forecast...')\n",
    "        raw_forecast_data[forecast_type] = requests.get(url=forecast_url)\n",
    "\n",
    "        if is_good_response(raw_forecast_data[forecast_type], f'Verify that the grid coordinates for the specified lattitude and longitude {LATTITUDE,LONGITUDE} were retreived correctly.'):\n",
    "            print(f'\\tRequest \"{forecast_type}\" completed.\\n')\n",
    "        else:\n",
    "            #We exit the loop if there is an issue to avoid sending another invalid request\n",
    "            raise StopExecution\n",
    "    \n",
    "    FORECAST_VALID_UNTIL = datetime.strptime(convert_API_dates_to_datetime(raw_forecast_data[\"hourly\"].json()[\"properties\"][\"validTimes\"]), DATETIME_FORMAT)\n",
    "    print(f'\\nThe following forecast data is considered valid until: {FORECAST_VALID_UNTIL.strftime(DATETIME_FORMAT)}')"
   ]
  },
  {
   "cell_type": "markdown",
   "metadata": {},
   "source": [
    "# Data Conversion\n",
    "\n",
    "Now that we have the data, we can format it into something readable."
   ]
  },
  {
   "cell_type": "code",
   "execution_count": 10,
   "metadata": {},
   "outputs": [],
   "source": [
    "hourly_data = { }\n",
    "extended_data = { }\n",
    "\n",
    "dates_and_times = { }"
   ]
  },
  {
   "cell_type": "code",
   "execution_count": 11,
   "metadata": {},
   "outputs": [],
   "source": [
    "for type, raw_data in raw_forecast_data.items():\n",
    "    unparsed_data = raw_data.json()\n",
    "    if type == \"hourly\":\n",
    "        hourly_data = parse_raw_json_to_dataclass(unparsed_data[\"properties\"][\"periods\"])\n",
    "    else:\n",
    "        extended_data = parse_raw_json_to_dataclass(unparsed_data[\"properties\"][\"periods\"])\n",
    "\n",
    "\n",
    "\n",
    "for forecast_datetime in hourly_data.keys():\n",
    "    fdate, ftime = forecast_datetime.split(sep= \" \")\n",
    "    current_date = fdate\n",
    "\n",
    "    if fdate not in dates_and_times:\n",
    "        dates_and_times[fdate] = [ ]\n",
    "    \n",
    "    if ftime not in dates_and_times[fdate]:\n",
    "        dates_and_times[fdate].append(ftime)\n",
    "\n",
    "temperature_unit = hourly_data[list(hourly_data.keys())[0]].temperature_unit"
   ]
  },
  {
   "cell_type": "markdown",
   "metadata": {},
   "source": [
    "# Hourly Forecast"
   ]
  },
  {
   "cell_type": "markdown",
   "metadata": {},
   "source": [
    "### As Raw Text"
   ]
  },
  {
   "cell_type": "code",
   "execution_count": 12,
   "metadata": {},
   "outputs": [],
   "source": [
    "def print_forecast_as_text():\n",
    "    for dates, times in dates_and_times.items():\n",
    "        print(f'{dates}\\'s Forecast by the Hour:')\n",
    "        for t in times:\n",
    "            rebuilt_date_time = f'{dates} {t}'\n",
    "            print(f'\\t{t}: {hourly_data[rebuilt_date_time].forecast_short}')\n",
    "            print(f'\\t\\tTemperature:    {hourly_data[rebuilt_date_time].temperature} {hourly_data[rebuilt_date_time].temperature_unit}')\n",
    "            print(f'\\t\\tChance of rain: {hourly_data[rebuilt_date_time].percent_precipitation} %')\n",
    "        print(\"---\\n\")"
   ]
  },
  {
   "cell_type": "markdown",
   "metadata": {},
   "source": [
    "#### Output"
   ]
  },
  {
   "cell_type": "code",
   "execution_count": null,
   "metadata": {},
   "outputs": [],
   "source": [
    "print_forecast_as_text()"
   ]
  },
  {
   "cell_type": "markdown",
   "metadata": {},
   "source": [
    "### Column Text"
   ]
  },
  {
   "cell_type": "code",
   "execution_count": 14,
   "metadata": {},
   "outputs": [],
   "source": [
    "def print_forecast_as_column_text():\n",
    "    for dates, times in dates_and_times.items():\n",
    "        print(f'{dates}\\'s Forecast by the Hour:')\n",
    "        for t in times:\n",
    "            print(f'{t}:')\n",
    "        for t in times:\n",
    "            rebuilt_date_time = f'{dates} {t}'\n",
    "            print(f'{hourly_data[rebuilt_date_time].forecast_short}')\n",
    "            print(f'Temperature:    {hourly_data[rebuilt_date_time].temperature} {hourly_data[rebuilt_date_time].temperature_unit}')\n",
    "            print(f'Chance of rain: {hourly_data[rebuilt_date_time].percent_precipitation} %')\n",
    "        print(\"---\\n\")"
   ]
  },
  {
   "cell_type": "markdown",
   "metadata": {},
   "source": [
    "#### Output"
   ]
  },
  {
   "cell_type": "code",
   "execution_count": null,
   "metadata": {},
   "outputs": [],
   "source": [
    "print_forecast_as_column_text()"
   ]
  },
  {
   "cell_type": "markdown",
   "metadata": {},
   "source": [
    "### As a Markdown Table"
   ]
  },
  {
   "cell_type": "code",
   "execution_count": 16,
   "metadata": {},
   "outputs": [],
   "source": [
    "def print_forecast_as_markdown():\n",
    "    for dates, times in dates_and_times.items():\n",
    "        print(f'# {dates}\\'s Forecast by the Hour:\\n')\n",
    "        print(f'| Time | ({DEGREE_SIGN}{temperature_unit}): Temperature, Wind Chill | Chance of Rain (%) | Forecast Comments |')\n",
    "        print(f'| ---- | ---------------------------------------------- | ------------------ | ----------------- |')\n",
    "        for t in times:\n",
    "            rebuilt_date_time = f'{dates} {t}'\n",
    "            temperature_and_windchill = f'{hourly_data[rebuilt_date_time].temperature}'\n",
    "            if (hourly_data[rebuilt_date_time].wind_chill == 0) == False:\n",
    "                temperature_and_windchill += f', {hourly_data[rebuilt_date_time].wind_chill}'\n",
    "            forecast_comments = hourly_data[rebuilt_date_time].forecast_short\n",
    "            if (hourly_data[rebuilt_date_time].forecast_detail == \"\") == False:\n",
    "                forecast_comments += f'<br>{hourly_data[rebuilt_date_time].forecast_detail}'\n",
    "            print(f'| {t} | {temperature_and_windchill} | {hourly_data[rebuilt_date_time].percent_precipitation} | {forecast_comments} |')\n",
    "        print(\"\\n\")"
   ]
  },
  {
   "cell_type": "markdown",
   "metadata": {},
   "source": [
    "#### Output"
   ]
  },
  {
   "cell_type": "code",
   "execution_count": null,
   "metadata": {},
   "outputs": [],
   "source": [
    "print_forecast_as_markdown()"
   ]
  },
  {
   "cell_type": "markdown",
   "metadata": {},
   "source": [
    "# Graphs"
   ]
  },
  {
   "cell_type": "code",
   "execution_count": 18,
   "metadata": {},
   "outputs": [],
   "source": [
    "todays_date = next(iter(dates_and_times))\n",
    "todays_date = list(dates_and_times.keys())[1]"
   ]
  },
  {
   "cell_type": "code",
   "execution_count": null,
   "metadata": {},
   "outputs": [],
   "source": [
    "hourly_times = np.array(dates_and_times[todays_date])\n",
    "hourly_temps = [ ]\n",
    "hourly_windchill = [ ]\n",
    "\n",
    "for hour in hourly_times:\n",
    "    rebuilt_dt_str = f'{todays_date} {hour}'\n",
    "    hourly_temps.append(hourly_data[rebuilt_dt_str].temperature)\n",
    "    if (hourly_data[rebuilt_dt_str].wind_chill > 0) == True:\n",
    "        hourly_windchill.append(hourly_data[rebuilt_dt_str].wind_chill)\n",
    "    else:\n",
    "        hourly_windchill.append(float('nan'))\n",
    "\n",
    "hourly_temperature_vs_windchill = [ ]\n",
    "\n",
    "for temp, chill in zip(hourly_temps, hourly_windchill):\n",
    "    if math.isnan(chill) == False:\n",
    "        hourly_temperature_vs_windchill.append((temp - chill) * 0.5)\n",
    "    else:\n",
    "        hourly_temperature_vs_windchill.append(float('nan'))\n",
    "\n",
    "hourly_temps = np.array(hourly_temps)\n",
    "hourly_windchill = np.array(hourly_windchill)\n",
    "hourly_temperature_vs_windchill = np.array(hourly_temperature_vs_windchill)\n",
    "\n",
    "print(todays_date)\n",
    "# for i in range(0, len(dates_and_times[todays_date])):\n",
    "#     if (hourly_windchill[i] > 0) == True:\n",
    "#         print(f'At {hourly_times[i]} it feels like {hourly_windchill[i]}{DEGREE_SIGN}F, when its really {hourly_temps[i]}{DEGREE_SIGN}F')\n",
    "#     else:\n",
    "#         print(f'At {hourly_times[i]} its {hourly_temps[i]}{DEGREE_SIGN}F')"
   ]
  },
  {
   "cell_type": "code",
   "execution_count": 20,
   "metadata": {},
   "outputs": [],
   "source": [
    "lolims = np.zeros(shape=np.shape(hourly_windchill), dtype=bool)\n",
    "uplims = np.zeros(shape=np.shape(hourly_windchill), dtype=bool)\n",
    "\n",
    "for i in range(0, len(dates_and_times[todays_date])):\n",
    "    if (hourly_windchill[i] > 0) == True:\n",
    "        uplims[i] = True\n",
    "\n",
    "windchill_linestyle = 'dotted'"
   ]
  },
  {
   "cell_type": "code",
   "execution_count": null,
   "metadata": {},
   "outputs": [],
   "source": [
    "fig, ax = plt.subplots(nrows=1, ncols=1)\n",
    "\n",
    "ax.errorbar(\n",
    "    x=hourly_times,\n",
    "    y=hourly_temps,\n",
    "    yerr=hourly_temperature_vs_windchill,\n",
    "    uplims=uplims,\n",
    "    marker='o',\n",
    "    markersize=8,\n",
    "    linestyle=windchill_linestyle\n",
    ")\n",
    "\n",
    "ax.plot(\n",
    "    hourly_times,\n",
    "    hourly_windchill,\n",
    "    marker='o',\n",
    "    markersize=8,\n",
    "    linestyle=windchill_linestyle\n",
    ")\n",
    "ax.set_xlim((hourly_times[0], hourly_times[-1]))\n",
    "\n",
    "ymin = hourly_temps.min() - 1\n",
    "if np.nanmin(hourly_windchill) < ymin:\n",
    "    ymin = np.nanmin(hourly_windchill) - 1\n",
    "ymax = hourly_temps.max() + 1\n",
    "\n",
    "ax.set_ylim((ymin, ymax))\n",
    "\n",
    "ax.set_title('Hourly Temperature Forecast (with Windchill)')\n",
    "plt.xticks(rotation=45)\n",
    "plt.savefig('Hourly Forecast.png', dpi=300, format='png', facecolor='w')"
   ]
  }
 ],
 "metadata": {
  "interpreter": {
   "hash": "b89b5cfaba6639976dc87ff2fec6d58faec662063367e2c229c520fe71072417"
  },
  "kernelspec": {
   "display_name": "Python 3.10.0 64-bit",
   "language": "python",
   "name": "python3"
  },
  "language_info": {
   "codemirror_mode": {
    "name": "ipython",
    "version": 3
   },
   "file_extension": ".py",
   "mimetype": "text/x-python",
   "name": "python",
   "nbconvert_exporter": "python",
   "pygments_lexer": "ipython3",
   "version": "3.10.0"
  },
  "orig_nbformat": 4
 },
 "nbformat": 4,
 "nbformat_minor": 2
}
